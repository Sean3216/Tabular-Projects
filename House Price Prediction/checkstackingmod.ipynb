{
 "cells": [
  {
   "cell_type": "markdown",
   "metadata": {
    "_uuid": "72cb4fbdcf8a9b882a5dfaa1449a3520ae529639"
   },
   "source": [
    "\n",
    "![main](https://www.dataquest.io/blog/content/images/2017/12/kaggle-amassachi-1.png)"
   ]
  },
  {
   "cell_type": "markdown",
   "metadata": {
    "_uuid": "84d98c1770675e3240fe44a4e37a81a26c43460b"
   },
   "source": [
    "### With 79 explanatory variables describing (almost) every aspect of residential homes in Ames, Iowa, this competition challenges you to predict the final price of each home.\n",
    "\n",
    "## Practice Skills\n",
    "* Creative feature engineering \n",
    "* Advanced regression techniques like random forest and gradient boosting"
   ]
  },
  {
   "cell_type": "markdown",
   "metadata": {
    "_uuid": "a8caafbfdc449025c74105969e46210e759f8f1b"
   },
   "source": [
    "### Recommend : This tutorial doesn't cover EDA . If you are looking at this dataset for the first time , Visit the first part of this kernel , which takes care of the Explanatory Data Analysis.\n",
    "https://www.kaggle.com/niteshx2/kernel-housing-prices-using-dummy-vars"
   ]
  },
  {
   "cell_type": "markdown",
   "metadata": {
    "_uuid": "cbeddcd9dd64839e3524ea213f5edbaee162520d"
   },
   "source": [
    "## Step 1 : Import Statements , you can use this code as it is.\n",
    "\n",
    "(Output Shows files already present in the Environment (By Kaggle)"
   ]
  },
  {
   "cell_type": "code",
   "execution_count": 1,
   "metadata": {
    "_cell_guid": "b1076dfc-b9ad-4769-8c92-a6c4dae69d19",
    "_kg_hide-input": true,
    "_uuid": "8f2839f25d086af736a60e9eeb907d3b93b6e0e5"
   },
   "outputs": [
    {
     "name": "stderr",
     "output_type": "stream",
     "text": [
      "C:\\Windows\\Temp\\ipykernel_20872\\3235352973.py:6: DeprecationWarning: \n",
      "Pyarrow will become a required dependency of pandas in the next major release of pandas (pandas 3.0),\n",
      "(to allow more performant data types, such as the Arrow string type, and better interoperability with other libraries)\n",
      "but was not found to be installed on your system.\n",
      "If this would cause problems for you,\n",
      "please provide us feedback at https://github.com/pandas-dev/pandas/issues/54466\n",
      "        \n",
      "  import pandas as pd # data processing, CSV file I/O (e.g. pd.read_csv)\n"
     ]
    }
   ],
   "source": [
    "# This Python 3 environment comes with many helpful analytics libraries installed\n",
    "# It is defined by the kaggle/python docker image: https://github.com/kaggle/docker-python\n",
    "# For example, here's several helpful packages to load in \n",
    "\n",
    "import numpy as np # linear algebra\n",
    "import pandas as pd # data processing, CSV file I/O (e.g. pd.read_csv)\n",
    "\n",
    "# Input data files are available in the \"../input/\" directory.\n",
    "# For example, running this (by clicking run or pressing Shift+Enter) will list the files in the input directory\n",
    "\n",
    "from sklearn.linear_model import ElasticNetCV, LassoCV, RidgeCV\n",
    "from sklearn.ensemble import GradientBoostingRegressor\n",
    "from sklearn.pipeline import make_pipeline\n",
    "from sklearn.preprocessing import RobustScaler\n",
    "from sklearn.model_selection import KFold, cross_val_score\n",
    "from sklearn.metrics import mean_squared_error\n",
    "from mlxtend.regressor import StackingCVRegressor\n",
    "from xgboost import XGBRegressor\n",
    "from lightgbm import LGBMRegressor\n",
    "\n",
    "from analysis_preprocess import Preprocessing\n",
    "from datetime import datetime\n"
   ]
  },
  {
   "cell_type": "markdown",
   "metadata": {
    "_uuid": "031c89d5eed167f1f2b5b78ac3153c8104c956e9"
   },
   "source": [
    "## Now , we load the required files "
   ]
  },
  {
   "cell_type": "code",
   "execution_count": 2,
   "metadata": {},
   "outputs": [
    {
     "name": "stderr",
     "output_type": "stream",
     "text": [
      "D:\\Sean\\Documents\\GitHub\\Tabular Data\\House Price Prediction\\analysis_preprocess.py:252: FutureWarning: A value is trying to be set on a copy of a DataFrame or Series through chained assignment using an inplace method.\n",
      "The behavior will change in pandas 3.0. This inplace method will never work because the intermediate object on which we are setting values always behaves as a copy.\n",
      "\n",
      "For example, when doing 'df[col].method(value, inplace=True)', try using 'df.method({col: value}, inplace=True)' or df[col] = df[col].method(value) instead, to perform the operation inplace on the original object.\n",
      "\n",
      "\n",
      "  self.data['MasVnrArea'].fillna(0, inplace=True)\n",
      "D:\\Sean\\Documents\\GitHub\\Tabular Data\\House Price Prediction\\analysis_preprocess.py:255: FutureWarning: A value is trying to be set on a copy of a DataFrame or Series through chained assignment using an inplace method.\n",
      "The behavior will change in pandas 3.0. This inplace method will never work because the intermediate object on which we are setting values always behaves as a copy.\n",
      "\n",
      "For example, when doing 'df[col].method(value, inplace=True)', try using 'df.method({col: value}, inplace=True)' or df[col] = df[col].method(value) instead, to perform the operation inplace on the original object.\n",
      "\n",
      "\n",
      "  self.data['GarageYrBlt'].fillna(0, inplace=True)\n",
      "D:\\Sean\\Documents\\GitHub\\Tabular Data\\House Price Prediction\\analysis_preprocess.py:295: FutureWarning: A value is trying to be set on a copy of a DataFrame or Series through chained assignment using an inplace method.\n",
      "The behavior will change in pandas 3.0. This inplace method will never work because the intermediate object on which we are setting values always behaves as a copy.\n",
      "\n",
      "For example, when doing 'df[col].method(value, inplace=True)', try using 'df.method({col: value}, inplace=True)' or df[col] = df[col].method(value) instead, to perform the operation inplace on the original object.\n",
      "\n",
      "\n",
      "  self.data['MasVnrType'].fillna('None',inplace = True)\n",
      "D:\\Sean\\Documents\\GitHub\\Tabular Data\\House Price Prediction\\analysis_preprocess.py:297: SettingWithCopyWarning: \n",
      "A value is trying to be set on a copy of a slice from a DataFrame\n",
      "\n",
      "See the caveats in the documentation: https://pandas.pydata.org/pandas-docs/stable/user_guide/indexing.html#returning-a-view-versus-a-copy\n",
      "  self.data[['BsmtQual','BsmtExposure','BsmtFinType1','BsmtFinType2',\n",
      "D:\\Sean\\Documents\\GitHub\\Tabular Data\\House Price Prediction\\analysis_preprocess.py:334: FutureWarning: A value is trying to be set on a copy of a DataFrame or Series through chained assignment using an inplace method.\n",
      "The behavior will change in pandas 3.0. This inplace method will never work because the intermediate object on which we are setting values always behaves as a copy.\n",
      "\n",
      "For example, when doing 'df[col].method(value, inplace=True)', try using 'df.method({col: value}, inplace=True)' or df[col] = df[col].method(value) instead, to perform the operation inplace on the original object.\n",
      "\n",
      "\n",
      "  self.test['MasVnrArea'].fillna(0, inplace=True)\n",
      "D:\\Sean\\Documents\\GitHub\\Tabular Data\\House Price Prediction\\analysis_preprocess.py:337: FutureWarning: A value is trying to be set on a copy of a DataFrame or Series through chained assignment using an inplace method.\n",
      "The behavior will change in pandas 3.0. This inplace method will never work because the intermediate object on which we are setting values always behaves as a copy.\n",
      "\n",
      "For example, when doing 'df[col].method(value, inplace=True)', try using 'df.method({col: value}, inplace=True)' or df[col] = df[col].method(value) instead, to perform the operation inplace on the original object.\n",
      "\n",
      "\n",
      "  self.test['GarageYrBlt'].fillna(0, inplace=True)\n",
      "D:\\Sean\\Documents\\GitHub\\Tabular Data\\House Price Prediction\\analysis_preprocess.py:387: FutureWarning: A value is trying to be set on a copy of a DataFrame or Series through chained assignment using an inplace method.\n",
      "The behavior will change in pandas 3.0. This inplace method will never work because the intermediate object on which we are setting values always behaves as a copy.\n",
      "\n",
      "For example, when doing 'df[col].method(value, inplace=True)', try using 'df.method({col: value}, inplace=True)' or df[col] = df[col].method(value) instead, to perform the operation inplace on the original object.\n",
      "\n",
      "\n",
      "  self.test['MasVnrType'].fillna('None',inplace = True)\n",
      "D:\\Sean\\Documents\\GitHub\\Tabular Data\\House Price Prediction\\analysis_preprocess.py:389: SettingWithCopyWarning: \n",
      "A value is trying to be set on a copy of a slice from a DataFrame\n",
      "\n",
      "See the caveats in the documentation: https://pandas.pydata.org/pandas-docs/stable/user_guide/indexing.html#returning-a-view-versus-a-copy\n",
      "  self.test[['BsmtQual','BsmtExposure','BsmtFinType1','BsmtFinType2',\n",
      "D:\\Sean\\Documents\\GitHub\\Tabular Data\\House Price Prediction\\analysis_preprocess.py:392: FutureWarning: Downcasting object dtype arrays on .fillna, .ffill, .bfill is deprecated and will change in a future version. Call result.infer_objects(copy=False) instead. To opt-in to the future behavior, set `pd.set_option('future.no_silent_downcasting', True)`\n",
      "  self.test.select_dtypes(include = ['object']).fillna(self.test.select_dtypes(include = ['object']).mode().iloc[0], inplace = True)\n"
     ]
    },
    {
     "name": "stdout",
     "output_type": "stream",
     "text": [
      "Dropping index 948 because of this weird row\n",
      "Value when BsmtExposure is NA but BsmtFinSF1 and BsmtUnfSF is not NA\n",
      "BsmtFinSF1      0\n",
      "BsmtUnfSF     936\n",
      "Name: 948, dtype: int64\n",
      "fixing column LotArea in test data to fit format int64\n",
      "fixing column YearBuilt in test data to fit format int64\n",
      "fixing column YearRemodAdd in test data to fit format int64\n",
      "fixing column BsmtFinSF1 in test data to fit format int64\n",
      "fixing column BsmtFinSF2 in test data to fit format int64\n",
      "fixing column BsmtUnfSF in test data to fit format int64\n",
      "fixing column TotalBsmtSF in test data to fit format int64\n",
      "fixing column 1stFlrSF in test data to fit format int64\n",
      "fixing column 2ndFlrSF in test data to fit format int64\n",
      "fixing column LowQualFinSF in test data to fit format int64\n",
      "fixing column GrLivArea in test data to fit format int64\n",
      "fixing column BsmtFullBath in test data to fit format int64\n",
      "fixing column BsmtHalfBath in test data to fit format int64\n",
      "fixing column FullBath in test data to fit format int64\n",
      "fixing column HalfBath in test data to fit format int64\n",
      "fixing column BedroomAbvGr in test data to fit format int64\n",
      "fixing column KitchenAbvGr in test data to fit format int64\n",
      "fixing column TotRmsAbvGrd in test data to fit format int64\n",
      "fixing column Fireplaces in test data to fit format int64\n",
      "fixing column GarageCars in test data to fit format int64\n",
      "fixing column WoodDeckSF in test data to fit format int64\n",
      "fixing column OpenPorchSF in test data to fit format int64\n",
      "fixing column EnclosedPorch in test data to fit format int64\n",
      "fixing column 3SsnPorch in test data to fit format int64\n",
      "fixing column ScreenPorch in test data to fit format int64\n",
      "fixing column PoolArea in test data to fit format int64\n",
      "fixing column MiscVal in test data to fit format int64\n",
      "fixing column MoSold in test data to fit format int64\n",
      "fixing column YrSold in test data to fit format int64\n"
     ]
    }
   ],
   "source": [
    "train = pd.read_csv('train.csv')\n",
    "test = pd.read_csv('test.csv')\n",
    "preprocesseddata = Preprocessing(train, test)\n",
    "\n",
    "train = preprocesseddata.wrangletrain()\n",
    "#val = preprocesseddata.wrangleval()\n",
    "test = preprocesseddata.wrangletest()"
   ]
  },
  {
   "cell_type": "markdown",
   "metadata": {
    "_uuid": "12b3ccc86b441893008e94a9d7b66f62fc3a7803"
   },
   "source": [
    "# Final Step :\n",
    "# Now , we are getting started with the process of modelling"
   ]
  },
  {
   "cell_type": "markdown",
   "metadata": {
    "_uuid": "3886a7dbcfc4838cafd4098ff17d55a84bd20202"
   },
   "source": [
    "* K-Folds cross-validator\n",
    "\n",
    "* Provides train/test indices to split data in train/test sets. Split dataset into k consecutive folds (without shuffling by default).\n",
    "\n",
    "* Each fold is then used once as a validation while the k - 1 remaining folds form the training set."
   ]
  },
  {
   "cell_type": "code",
   "execution_count": 3,
   "metadata": {},
   "outputs": [
    {
     "data": {
      "text/plain": [
       "count      1459.000000\n",
       "mean     180913.259767\n",
       "std       79469.162925\n",
       "min       34900.000000\n",
       "25%      129950.000000\n",
       "50%      163000.000000\n",
       "75%      214000.000000\n",
       "max      755000.000000\n",
       "Name: SalePrice, dtype: float64"
      ]
     },
     "execution_count": 3,
     "metadata": {},
     "output_type": "execute_result"
    }
   ],
   "source": [
    "train['SalePrice'].describe()"
   ]
  },
  {
   "cell_type": "code",
   "execution_count": 4,
   "metadata": {},
   "outputs": [],
   "source": [
    "X, y = train.drop(\"SalePrice\",axis = 1), train['SalePrice']\n",
    "y = np.log1p(y)"
   ]
  },
  {
   "cell_type": "code",
   "execution_count": 5,
   "metadata": {
    "_uuid": "221673e6ce1fe10acdb5111dc7952f5e1d910c9c"
   },
   "outputs": [],
   "source": [
    "# defining error functions for handy use. \n",
    "kfolds = KFold(n_splits=10, shuffle=True, random_state=42)\n",
    "\n",
    "def rmsle(y, y_pred):\n",
    "    return np.sqrt(mean_squared_error(y, y_pred))\n",
    "\n",
    "def cv_rmse(model, X=X):\n",
    "    rmse = np.sqrt(-cross_val_score(model, X, y, scoring=\"neg_mean_squared_error\", cv=kfolds))\n",
    "    return (rmse)"
   ]
  },
  {
   "cell_type": "code",
   "execution_count": 6,
   "metadata": {
    "_uuid": "0cec1909ad2525acdb074f9ceefe1888a8e55dab"
   },
   "outputs": [],
   "source": [
    "alphas_alt = [14.5, 14.6, 14.7, 14.8, 14.9, 15, 15.1, 15.2, 15.3, 15.4, 15.5]\n",
    "alphas2 = [5e-05, 0.0001, 0.0002, 0.0003, 0.0004, 0.0005, 0.0006, 0.0007, 0.0008]\n",
    "e_alphas = [0.0001, 0.0002, 0.0003, 0.0004, 0.0005, 0.0006, 0.0007]\n",
    "e_l1ratio = [0.8, 0.85, 0.9, 0.95, 0.99, 1]"
   ]
  },
  {
   "cell_type": "code",
   "execution_count": 7,
   "metadata": {},
   "outputs": [],
   "source": [
    "#Distance-based Learners\n",
    "ridge = RidgeCV(alphas=alphas_alt, cv=kfolds)\n",
    "lasso = LassoCV(max_iter=10000000, alphas=alphas2, random_state=42, cv=kfolds)\n",
    "elasticnet = ElasticNetCV(max_iter=10000000, alphas=e_alphas, cv=kfolds, l1_ratio=e_l1ratio)\n",
    "\n",
    "#Tree-based Learners\n",
    "gbr = GradientBoostingRegressor(n_estimators=3000, learning_rate=0.05, max_depth=4, max_features='sqrt', min_samples_leaf=15, min_samples_split=10, loss='huber', random_state =42)       \n",
    "lightgbm = LGBMRegressor(objective='regression', \n",
    "                                       num_leaves=4,\n",
    "                                       learning_rate=0.01, \n",
    "                                       n_estimators=5000,\n",
    "                                       max_bin=200, \n",
    "                                       bagging_fraction=0.75,\n",
    "                                       bagging_freq=5, \n",
    "                                       bagging_seed=7,\n",
    "                                       feature_fraction=0.2,\n",
    "                                       feature_fraction_seed=7,\n",
    "                                       verbose=-1,\n",
    "                                       )\n",
    "xgboost = XGBRegressor(learning_rate=0.01,n_estimators=5000,\n",
    "                                     max_depth=3, min_child_weight=0,\n",
    "                                     gamma=0, subsample=0.7,\n",
    "                                     colsample_bytree=0.7,\n",
    "                                     objective='reg:squarederror', nthread=-1,\n",
    "                                     scale_pos_weight=1, seed=27,\n",
    "                                     reg_alpha=0.00006)"
   ]
  },
  {
   "cell_type": "markdown",
   "metadata": {
    "_uuid": "c0505666f1d31103ca3ee499ea566275a96d4a62"
   },
   "source": [
    "## Stacking \n",
    "Stacking is an ensemble learning technique to combine multiple regression models via a meta-regressor. The StackingCVRegressor extends the standard stacking algorithm (implemented as StackingRegressor) using out-of-fold predictions to prepare the input data for the level-2 regressor.\n",
    "\n",
    "In the standard stacking procedure, the first-level regressors are fit to the same training set that is used prepare the inputs for the second-level regressor, which may lead to overfitting. The StackingCVRegressor, however, uses the concept of out-of-fold predictions: the dataset is split into k folds, and in k successive rounds, k-1 folds are used to fit the first level regressor. In each round, the first-level regressors are then applied to the remaining 1 subset that was not used for model fitting in each iteration. The resulting predictions are then stacked and provided -- as input data -- to the second-level regressor. After the training of the StackingCVRegressor, the first-level regressors are fit to the entire dataset for optimal predicitons.\n",
    "\n",
    "\n",
    "More : http://rasbt.github.io/mlxtend/user_guide/regressor/StackingCVRegressor/\n",
    "I encourage that you read more about stacking.\n",
    "\n",
    "![](http://rasbt.github.io/mlxtend/user_guide/regressor/StackingCVRegressor_files/stacking_cv_regressor_overview.png)\n",
    "\n",
    "\n",
    "### In simple words , Stacking helps avoid fitting on the same data twice , and is effective in reducing overfitting.\n"
   ]
  },
  {
   "cell_type": "code",
   "execution_count": 8,
   "metadata": {},
   "outputs": [],
   "source": [
    "stack_gen = StackingCVRegressor(regressors=(ridge, lasso, elasticnet, gbr, xgboost, lightgbm),\n",
    "                                meta_regressor=xgboost,\n",
    "                                use_features_in_secondary=True)"
   ]
  },
  {
   "cell_type": "markdown",
   "metadata": {
    "_uuid": "89a50a6cda7e6994d8a2269984ba9e1a960d76b0"
   },
   "source": [
    "## Here , we compare the various models that we just created.."
   ]
  },
  {
   "cell_type": "code",
   "execution_count": 9,
   "metadata": {
    "_uuid": "81aae079934ae19a2bb621f3115609770ccb0e6a"
   },
   "outputs": [
    {
     "name": "stdout",
     "output_type": "stream",
     "text": [
      "elastic net: 0.1500 (0.0350)\n",
      " 2024-01-30 01:19:15.162123\n",
      "RIDGE: 0.1505 (0.0346)\n",
      " 2024-01-30 01:19:31.641376\n",
      "LASSO: 0.1498 (0.0346)\n",
      " 2024-01-30 01:19:37.979025\n",
      "gbr: 0.1370 (0.0175)\n",
      " 2024-01-30 01:22:13.160296\n",
      "xgboost: 0.1271 (0.0177)\n",
      " 2024-01-30 01:23:59.019718\n",
      "lightgbm: 0.1368 (0.0164)\n",
      " 2024-01-30 01:24:12.703760\n"
     ]
    }
   ],
   "source": [
    "# Using various prediction models that we just created\n",
    "score = cv_rmse(elasticnet, X)\n",
    "print(\"elastic net: {:.4f} ({:.4f})\\n\".format(score.mean(), score.std()), datetime.now(), )\n",
    "\n",
    "score = cv_rmse(ridge, X)\n",
    "print(\"RIDGE: {:.4f} ({:.4f})\\n\".format(score.mean(), score.std()), datetime.now(), )\n",
    "\n",
    "score = cv_rmse(lasso, X)\n",
    "print(\"LASSO: {:.4f} ({:.4f})\\n\".format(score.mean(), score.std()), datetime.now(), )\n",
    "\n",
    "score = cv_rmse(gbr, X)\n",
    "print(\"gbr: {:.4f} ({:.4f})\\n\".format(score.mean(), score.std()), datetime.now(), )\n",
    "\n",
    "score = cv_rmse(xgboost, X)\n",
    "print(\"xgboost: {:.4f} ({:.4f})\\n\".format(score.mean(), score.std()), datetime.now(), )\n",
    "\n",
    "score = cv_rmse(lightgbm, X)\n",
    "print(\"lightgbm: {:.4f} ({:.4f})\\n\".format(score.mean(), score.std()), datetime.now(), )\n"
   ]
  },
  {
   "cell_type": "code",
   "execution_count": 10,
   "metadata": {
    "_uuid": "7d39f40cf0a5ce35f211aa1479052c6fdc25b22f"
   },
   "outputs": [
    {
     "name": "stdout",
     "output_type": "stream",
     "text": [
      "START Fit\n",
      "============ Fitting and Checking performance against original training data for each model ============\n",
      "stack_gen\n"
     ]
    },
    {
     "name": "stderr",
     "output_type": "stream",
     "text": [
      "D:\\Sean\\Miniconda3\\envs\\datascience\\lib\\site-packages\\sklearn\\base.py:486: UserWarning: X has feature names, but RidgeCV was fitted without feature names\n",
      "  warnings.warn(\n",
      "D:\\Sean\\Miniconda3\\envs\\datascience\\lib\\site-packages\\sklearn\\base.py:486: UserWarning: X has feature names, but LassoCV was fitted without feature names\n",
      "  warnings.warn(\n",
      "D:\\Sean\\Miniconda3\\envs\\datascience\\lib\\site-packages\\sklearn\\base.py:486: UserWarning: X has feature names, but ElasticNetCV was fitted without feature names\n",
      "  warnings.warn(\n",
      "D:\\Sean\\Miniconda3\\envs\\datascience\\lib\\site-packages\\sklearn\\base.py:486: UserWarning: X has feature names, but GradientBoostingRegressor was fitted without feature names\n",
      "  warnings.warn(\n"
     ]
    },
    {
     "name": "stdout",
     "output_type": "stream",
     "text": [
      "Stacked regression: 0.0356\n",
      "elasticnet\n",
      "ElasticNet: 0.1270\n",
      "Lasso\n",
      "Lasso: 0.1267\n",
      "Ridge\n",
      "Ridge: 0.1270\n",
      "GradientBoosting\n",
      "Gradient Boosting: 0.0509\n",
      "xgboost\n",
      "XGBoost: 0.0406\n",
      "lightgbm\n",
      "LightGBM: 0.0868\n"
     ]
    }
   ],
   "source": [
    "print('START Fit')\n",
    "print(\"============ Fitting against original training data for each model ============\")\n",
    "\n",
    "print('stack_gen')\n",
    "stack_gen_model = stack_gen.fit(np.array(X), np.array(y))\n",
    "\n",
    "print('elasticnet')\n",
    "elastic_model_full_data = elasticnet.fit(X, y)\n",
    "                                          \n",
    "print('Lasso')\n",
    "lasso_model_full_data = lasso.fit(X, y)\n",
    "\n",
    "print('Ridge')\n",
    "ridge_model_full_data = ridge.fit(X, y)\n",
    "\n",
    "print('GradientBoosting')\n",
    "gbr_model_full_data = gbr.fit(X, y)\n",
    "\n",
    "print('xgboost')\n",
    "xgb_model_full_data = xgboost.fit(X, y)\n",
    "\n",
    "print('lightgbm')\n",
    "lgb_model_full_data = lightgbm.fit(X, y)"
   ]
  },
  {
   "cell_type": "markdown",
   "metadata": {
    "_uuid": "ec2b00b49c8e397510c01bb0962ff22cb9776b5c"
   },
   "source": [
    "# Blending Models / 'Ensambling'\n",
    "* Notice that we are using a few percent from different models to get our final answer , all decimals add up to 1"
   ]
  },
  {
   "cell_type": "code",
   "execution_count": 26,
   "metadata": {},
   "outputs": [],
   "source": [
    "def blend_models_predict(X):\n",
    "    return ((0.05 * elastic_model_full_data.predict(X)) + \\\n",
    "            (0.05 * lasso_model_full_data.predict(X)) + \\\n",
    "            (0.05 * ridge_model_full_data.predict(X)) + \\\n",
    "            (0.15 * gbr_model_full_data.predict(X)) + \\\n",
    "            (0.2 * xgb_model_full_data.predict(X)) + \\\n",
    "            (0.15 * lgb_model_full_data.predict(X)) + \\\n",
    "            (0.35 * stack_gen_model.predict(np.array(X))))    \n"
   ]
  },
  {
   "cell_type": "code",
   "execution_count": 27,
   "metadata": {
    "_uuid": "3b972324b0039d12d9422112f9c6a65c84b820f0"
   },
   "outputs": [
    {
     "name": "stdout",
     "output_type": "stream",
     "text": [
      "RMSLE score on train data:\n",
      "0.04967514487281021\n"
     ]
    }
   ],
   "source": [
    "#xval = val.drop(columns = ['SalePrice'])\n",
    "#yval = np.log1p(val['SalePrice'])\n",
    "print('RMSLE score on train data:')\n",
    "print(rmsle(y, blend_models_predict(X)))\n",
    "\n",
    "#Adjusting with val data\n",
    "#print('RMSLE score on val data (Outliers from train data):')\n",
    "#print(rmsle(yval, blend_models_predict(xval)))"
   ]
  },
  {
   "cell_type": "markdown",
   "metadata": {
    "_uuid": "721b2595071ebce0279e02d73213923966e6421d"
   },
   "source": [
    "### Here , we are also blending(Read: Ensambling) with the data availiable from other 'top' public Kernels .\n",
    "* This helps our model generalize on unseen data pretty well"
   ]
  },
  {
   "cell_type": "markdown",
   "metadata": {
    "_uuid": "2f91b0dfa25e867d93d4e8fb383f8240d6fcd250"
   },
   "source": [
    "# Submission"
   ]
  },
  {
   "cell_type": "code",
   "execution_count": 28,
   "metadata": {
    "_uuid": "f0fa2dfe20409dc1ee8b31139d6523c62b14d658"
   },
   "outputs": [
    {
     "name": "stdout",
     "output_type": "stream",
     "text": [
      "Predict submission\n"
     ]
    }
   ],
   "source": [
    "print('Predict submission')\n",
    "submission = pd.read_csv(\"sample_submission.csv\")\n",
    "submission.iloc[:,1] = (np.expm1(blend_models_predict(test)))"
   ]
  },
  {
   "cell_type": "code",
   "execution_count": 29,
   "metadata": {
    "_uuid": "1a3b3c0025fdf118a0bedca994650e8a38170370"
   },
   "outputs": [],
   "source": [
    "q1 = submission['SalePrice'].quantile(0.0042)\n",
    "q2 = submission['SalePrice'].quantile(0.99)\n",
    "# Quantiles helping us get some extreme values for extremely low or high values \n",
    "submission['SalePrice'] = submission['SalePrice'].apply(lambda x: x if x > q1 else x*0.77)\n",
    "submission['SalePrice'] = submission['SalePrice'].apply(lambda x: x if x < q2 else x*1.1)\n",
    "submission.to_csv(\"submission.csv\", index=False)"
   ]
  },
  {
   "cell_type": "code",
   "execution_count": 30,
   "metadata": {},
   "outputs": [
    {
     "data": {
      "text/plain": [
       "<Axes: xlabel='SalePrice', ylabel='Count'>"
      ]
     },
     "execution_count": 30,
     "metadata": {},
     "output_type": "execute_result"
    },
    {
     "data": {
      "image/png": "[encoded data removed]",
      "text/plain": [
       "<Figure size 640x480 with 1 Axes>"
      ]
     },
     "metadata": {},
     "output_type": "display_data"
    }
   ],
   "source": [
    "import seaborn as sns\n",
    "sns.histplot(submission['SalePrice'])"
   ]
  },
  {
   "cell_type": "code",
   "execution_count": 31,
   "metadata": {
    "_uuid": "e9a3a97f62fd8e553e8c44b07011f7711e016b32"
   },
   "outputs": [
    {
     "data": {
      "text/html": [
       "<div>\n",
       "<style scoped>\n",
       "    .dataframe tbody tr th:only-of-type {\n",
       "        vertical-align: middle;\n",
       "    }\n",
       "\n",
       "    .dataframe tbody tr th {\n",
       "        vertical-align: top;\n",
       "    }\n",
       "\n",
       "    .dataframe thead th {\n",
       "        text-align: right;\n",
       "    }\n",
       "</style>\n",
       "<table border=\"1\" class=\"dataframe\">\n",
       "  <thead>\n",
       "    <tr style=\"text-align: right;\">\n",
       "      <th></th>\n",
       "      <th>Id</th>\n",
       "      <th>SalePrice</th>\n",
       "    </tr>\n",
       "  </thead>\n",
       "  <tbody>\n",
       "    <tr>\n",
       "      <th>0</th>\n",
       "      <td>1461</td>\n",
       "      <td>117158.210750</td>\n",
       "    </tr>\n",
       "    <tr>\n",
       "      <th>1</th>\n",
       "      <td>1462</td>\n",
       "      <td>154169.152278</td>\n",
       "    </tr>\n",
       "    <tr>\n",
       "      <th>2</th>\n",
       "      <td>1463</td>\n",
       "      <td>180502.392465</td>\n",
       "    </tr>\n",
       "    <tr>\n",
       "      <th>3</th>\n",
       "      <td>1464</td>\n",
       "      <td>192665.893649</td>\n",
       "    </tr>\n",
       "    <tr>\n",
       "      <th>4</th>\n",
       "      <td>1465</td>\n",
       "      <td>182883.603031</td>\n",
       "    </tr>\n",
       "  </tbody>\n",
       "</table>\n",
       "</div>"
      ],
      "text/plain": [
       "     Id      SalePrice\n",
       "0  1461  117158.210750\n",
       "1  1462  154169.152278\n",
       "2  1463  180502.392465\n",
       "3  1464  192665.893649\n",
       "4  1465  182883.603031"
      ]
     },
     "execution_count": 31,
     "metadata": {},
     "output_type": "execute_result"
    }
   ],
   "source": [
    "submission.head()"
   ]
  },
  {
   "cell_type": "code",
   "execution_count": null,
   "metadata": {},
   "outputs": [],
   "source": []
  },
  {
   "cell_type": "code",
   "execution_count": null,
   "metadata": {},
   "outputs": [],
   "source": []
  }
 ],
 "metadata": {
  "kernelspec": {
   "display_name": "Python 3 (ipykernel)",
   "language": "python",
   "name": "python3"
  },
  "language_info": {
   "codemirror_mode": {
    "name": "ipython",
    "version": 3
   },
   "file_extension": ".py",
   "mimetype": "text/x-python",
   "name": "python",
   "nbconvert_exporter": "python",
   "pygments_lexer": "ipython3",
   "version": "3.10.9"
  }
 },
 "nbformat": 4,
 "nbformat_minor": 4
}
