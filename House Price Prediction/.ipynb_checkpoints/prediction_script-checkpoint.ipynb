{
 "cells": [
  {
   "cell_type": "code",
   "execution_count": 1,
   "metadata": {
    "_cell_guid": "b1076dfc-b9ad-4769-8c92-a6c4dae69d19",
    "_kg_hide-input": true,
    "_uuid": "8f2839f25d086af736a60e9eeb907d3b93b6e0e5"
   },
   "outputs": [
    {
     "name": "stderr",
     "output_type": "stream",
     "text": [
      "C:\\Windows\\Temp\\ipykernel_5124\\821198876.py:2: DeprecationWarning: \n",
      "Pyarrow will become a required dependency of pandas in the next major release of pandas (pandas 3.0),\n",
      "(to allow more performant data types, such as the Arrow string type, and better interoperability with other libraries)\n",
      "but was not found to be installed on your system.\n",
      "If this would cause problems for you,\n",
      "please provide us feedback at https://github.com/pandas-dev/pandas/issues/54466\n",
      "        \n",
      "  import pandas as pd\n"
     ]
    }
   ],
   "source": [
    "import numpy as np\n",
    "import pandas as pd \n",
    "\n",
    "from sklearn.linear_model import ElasticNetCV, LassoCV, RidgeCV\n",
    "from sklearn.ensemble import GradientBoostingRegressor\n",
    "from sklearn.pipeline import make_pipeline\n",
    "from sklearn.preprocessing import RobustScaler\n",
    "from sklearn.model_selection import KFold, cross_val_score\n",
    "from sklearn.metrics import mean_squared_error\n",
    "from mlxtend.regressor import StackingCVRegressor\n",
    "from xgboost import XGBRegressor\n",
    "from lightgbm import LGBMRegressor\n",
    "\n",
    "from analysis_preprocess import Preprocessing, FeatureImportance, realtorpredict\n",
    "from datetime import datetime\n"
   ]
  },
  {
   "cell_type": "code",
   "execution_count": 2,
   "metadata": {},
   "outputs": [
    {
     "name": "stderr",
     "output_type": "stream",
     "text": [
      "D:\\Sean\\Documents\\GitHub\\Tabular Data\\House Price Prediction\\analysis_preprocess.py:252: FutureWarning: A value is trying to be set on a copy of a DataFrame or Series through chained assignment using an inplace method.\n",
      "The behavior will change in pandas 3.0. This inplace method will never work because the intermediate object on which we are setting values always behaves as a copy.\n",
      "\n",
      "For example, when doing 'df[col].method(value, inplace=True)', try using 'df.method({col: value}, inplace=True)' or df[col] = df[col].method(value) instead, to perform the operation inplace on the original object.\n",
      "\n",
      "\n",
      "  self.data['MasVnrArea'].fillna(0, inplace=True)\n",
      "D:\\Sean\\Documents\\GitHub\\Tabular Data\\House Price Prediction\\analysis_preprocess.py:255: FutureWarning: A value is trying to be set on a copy of a DataFrame or Series through chained assignment using an inplace method.\n",
      "The behavior will change in pandas 3.0. This inplace method will never work because the intermediate object on which we are setting values always behaves as a copy.\n",
      "\n",
      "For example, when doing 'df[col].method(value, inplace=True)', try using 'df.method({col: value}, inplace=True)' or df[col] = df[col].method(value) instead, to perform the operation inplace on the original object.\n",
      "\n",
      "\n",
      "  self.data['GarageYrBlt'].fillna(0, inplace=True)\n",
      "D:\\Sean\\Documents\\GitHub\\Tabular Data\\House Price Prediction\\analysis_preprocess.py:295: FutureWarning: A value is trying to be set on a copy of a DataFrame or Series through chained assignment using an inplace method.\n",
      "The behavior will change in pandas 3.0. This inplace method will never work because the intermediate object on which we are setting values always behaves as a copy.\n",
      "\n",
      "For example, when doing 'df[col].method(value, inplace=True)', try using 'df.method({col: value}, inplace=True)' or df[col] = df[col].method(value) instead, to perform the operation inplace on the original object.\n",
      "\n",
      "\n",
      "  self.data['MasVnrType'].fillna('None',inplace = True)\n",
      "D:\\Sean\\Documents\\GitHub\\Tabular Data\\House Price Prediction\\analysis_preprocess.py:297: SettingWithCopyWarning: \n",
      "A value is trying to be set on a copy of a slice from a DataFrame\n",
      "\n",
      "See the caveats in the documentation: https://pandas.pydata.org/pandas-docs/stable/user_guide/indexing.html#returning-a-view-versus-a-copy\n",
      "  self.data[['BsmtQual','BsmtExposure','BsmtFinType1','BsmtFinType2',\n",
      "D:\\Sean\\Documents\\GitHub\\Tabular Data\\House Price Prediction\\analysis_preprocess.py:334: FutureWarning: A value is trying to be set on a copy of a DataFrame or Series through chained assignment using an inplace method.\n",
      "The behavior will change in pandas 3.0. This inplace method will never work because the intermediate object on which we are setting values always behaves as a copy.\n",
      "\n",
      "For example, when doing 'df[col].method(value, inplace=True)', try using 'df.method({col: value}, inplace=True)' or df[col] = df[col].method(value) instead, to perform the operation inplace on the original object.\n",
      "\n",
      "\n",
      "  self.test['MasVnrArea'].fillna(0, inplace=True)\n",
      "D:\\Sean\\Documents\\GitHub\\Tabular Data\\House Price Prediction\\analysis_preprocess.py:337: FutureWarning: A value is trying to be set on a copy of a DataFrame or Series through chained assignment using an inplace method.\n",
      "The behavior will change in pandas 3.0. This inplace method will never work because the intermediate object on which we are setting values always behaves as a copy.\n",
      "\n",
      "For example, when doing 'df[col].method(value, inplace=True)', try using 'df.method({col: value}, inplace=True)' or df[col] = df[col].method(value) instead, to perform the operation inplace on the original object.\n",
      "\n",
      "\n",
      "  self.test['GarageYrBlt'].fillna(0, inplace=True)\n",
      "D:\\Sean\\Documents\\GitHub\\Tabular Data\\House Price Prediction\\analysis_preprocess.py:387: FutureWarning: A value is trying to be set on a copy of a DataFrame or Series through chained assignment using an inplace method.\n",
      "The behavior will change in pandas 3.0. This inplace method will never work because the intermediate object on which we are setting values always behaves as a copy.\n",
      "\n",
      "For example, when doing 'df[col].method(value, inplace=True)', try using 'df.method({col: value}, inplace=True)' or df[col] = df[col].method(value) instead, to perform the operation inplace on the original object.\n",
      "\n",
      "\n",
      "  self.test['MasVnrType'].fillna('None',inplace = True)\n",
      "D:\\Sean\\Documents\\GitHub\\Tabular Data\\House Price Prediction\\analysis_preprocess.py:389: SettingWithCopyWarning: \n",
      "A value is trying to be set on a copy of a slice from a DataFrame\n",
      "\n",
      "See the caveats in the documentation: https://pandas.pydata.org/pandas-docs/stable/user_guide/indexing.html#returning-a-view-versus-a-copy\n",
      "  self.test[['BsmtQual','BsmtExposure','BsmtFinType1','BsmtFinType2',\n",
      "D:\\Sean\\Documents\\GitHub\\Tabular Data\\House Price Prediction\\analysis_preprocess.py:392: FutureWarning: Downcasting object dtype arrays on .fillna, .ffill, .bfill is deprecated and will change in a future version. Call result.infer_objects(copy=False) instead. To opt-in to the future behavior, set `pd.set_option('future.no_silent_downcasting', True)`\n",
      "  self.test.select_dtypes(include = ['object']).fillna(self.test.select_dtypes(include = ['object']).mode().iloc[0], inplace = True)\n"
     ]
    },
    {
     "name": "stdout",
     "output_type": "stream",
     "text": [
      "Dropping index 948 because of this weird row\n",
      "Value when BsmtExposure is NA but BsmtFinSF1 and BsmtUnfSF is not NA\n",
      "BsmtFinSF1      0\n",
      "BsmtUnfSF     936\n",
      "Name: 948, dtype: int64\n",
      "fixing column LotArea in test data to fit format int64\n",
      "fixing column YearBuilt in test data to fit format int64\n",
      "fixing column YearRemodAdd in test data to fit format int64\n",
      "fixing column BsmtFinSF1 in test data to fit format int64\n",
      "fixing column BsmtFinSF2 in test data to fit format int64\n",
      "fixing column BsmtUnfSF in test data to fit format int64\n",
      "fixing column TotalBsmtSF in test data to fit format int64\n",
      "fixing column 1stFlrSF in test data to fit format int64\n",
      "fixing column 2ndFlrSF in test data to fit format int64\n",
      "fixing column LowQualFinSF in test data to fit format int64\n",
      "fixing column GrLivArea in test data to fit format int64\n",
      "fixing column BsmtFullBath in test data to fit format int64\n",
      "fixing column BsmtHalfBath in test data to fit format int64\n",
      "fixing column FullBath in test data to fit format int64\n",
      "fixing column HalfBath in test data to fit format int64\n",
      "fixing column BedroomAbvGr in test data to fit format int64\n",
      "fixing column KitchenAbvGr in test data to fit format int64\n",
      "fixing column TotRmsAbvGrd in test data to fit format int64\n",
      "fixing column Fireplaces in test data to fit format int64\n",
      "fixing column GarageCars in test data to fit format int64\n",
      "fixing column WoodDeckSF in test data to fit format int64\n",
      "fixing column OpenPorchSF in test data to fit format int64\n",
      "fixing column EnclosedPorch in test data to fit format int64\n",
      "fixing column 3SsnPorch in test data to fit format int64\n",
      "fixing column ScreenPorch in test data to fit format int64\n",
      "fixing column PoolArea in test data to fit format int64\n",
      "fixing column MiscVal in test data to fit format int64\n",
      "fixing column MoSold in test data to fit format int64\n",
      "fixing column YrSold in test data to fit format int64\n"
     ]
    }
   ],
   "source": [
    "rawtrain = pd.read_csv('train.csv')\n",
    "rawtest = pd.read_csv('test.csv')\n",
    "preprocesseddata = Preprocessing(rawtrain, rawtest)\n",
    "\n",
    "train = preprocesseddata.wrangletrain()\n",
    "test = preprocesseddata.wrangletest()"
   ]
  },
  {
   "cell_type": "code",
   "execution_count": 3,
   "metadata": {},
   "outputs": [
    {
     "data": {
      "text/plain": [
       "MSZoning            0\n",
       "Street              0\n",
       "Alley            1369\n",
       "LotShape            0\n",
       "LandContour         0\n",
       "Utilities           0\n",
       "LotConfig           0\n",
       "LandSlope           0\n",
       "Neighborhood        0\n",
       "Condition1          0\n",
       "Condition2          0\n",
       "BldgType            0\n",
       "HouseStyle          0\n",
       "RoofStyle           0\n",
       "RoofMatl            0\n",
       "Exterior1st         0\n",
       "Exterior2nd         0\n",
       "MasVnrType        872\n",
       "ExterQual           0\n",
       "ExterCond           0\n",
       "Foundation          0\n",
       "BsmtQual           37\n",
       "BsmtCond           37\n",
       "BsmtExposure       38\n",
       "BsmtFinType1       37\n",
       "BsmtFinType2       38\n",
       "Heating             0\n",
       "HeatingQC           0\n",
       "CentralAir          0\n",
       "Electrical          1\n",
       "KitchenQual         0\n",
       "Functional          0\n",
       "FireplaceQu       690\n",
       "GarageType         81\n",
       "GarageFinish       81\n",
       "GarageQual         81\n",
       "GarageCond         81\n",
       "PavedDrive          0\n",
       "PoolQC           1453\n",
       "Fence            1179\n",
       "MiscFeature      1406\n",
       "SaleType            0\n",
       "SaleCondition       0\n",
       "dtype: int64"
      ]
     },
     "execution_count": 3,
     "metadata": {},
     "output_type": "execute_result"
    }
   ],
   "source": [
    "rawtrain.select_dtypes(include = 'object').isna().sum()"
   ]
  },
  {
   "cell_type": "code",
   "execution_count": 4,
   "metadata": {},
   "outputs": [],
   "source": [
    "X, y = train.drop(\"SalePrice\",axis = 1), train['SalePrice']\n",
    "y = np.log1p(y)"
   ]
  },
  {
   "cell_type": "code",
   "execution_count": 5,
   "metadata": {
    "_uuid": "221673e6ce1fe10acdb5111dc7952f5e1d910c9c"
   },
   "outputs": [],
   "source": [
    "# defining error functions for handy use. \n",
    "kfolds = KFold(n_splits=10, shuffle=True, random_state=42)\n",
    "\n",
    "def rmse(y, y_pred):\n",
    "    return np.sqrt(mean_squared_error(y, y_pred))\n",
    "\n",
    "def cv_rmse(model, X=X):\n",
    "    rmse = np.sqrt(-cross_val_score(model, X, y, scoring=\"neg_mean_squared_error\", cv=kfolds))\n",
    "    return (rmse)"
   ]
  },
  {
   "cell_type": "code",
   "execution_count": 6,
   "metadata": {
    "_uuid": "0cec1909ad2525acdb074f9ceefe1888a8e55dab"
   },
   "outputs": [],
   "source": [
    "alphas_alt = [14.5, 14.6, 14.7, 14.8, 14.9, 15, 15.1, 15.2, 15.3, 15.4, 15.5]\n",
    "alphas2 = [5e-05, 0.0001, 0.0002, 0.0003, 0.0004, 0.0005, 0.0006, 0.0007, 0.0008]\n",
    "e_alphas = [0.0001, 0.0002, 0.0003, 0.0004, 0.0005, 0.0006, 0.0007]\n",
    "e_l1ratio = [0.8, 0.85, 0.9, 0.95, 0.99, 1]"
   ]
  },
  {
   "cell_type": "code",
   "execution_count": 7,
   "metadata": {},
   "outputs": [],
   "source": [
    "#Distance-based Learners\n",
    "ridge = RidgeCV(alphas=alphas_alt, cv=kfolds)\n",
    "lasso = LassoCV(max_iter=10000000, alphas=alphas2, random_state=42, cv=kfolds)\n",
    "elasticnet = ElasticNetCV(max_iter=10000000, alphas=e_alphas, cv=kfolds, l1_ratio=e_l1ratio)\n",
    "\n",
    "#Tree-based Learners\n",
    "gbr = GradientBoostingRegressor(n_estimators=3000, learning_rate=0.05, max_depth=4, max_features='sqrt', min_samples_leaf=15, min_samples_split=10, loss='huber', random_state =42)       \n",
    "lightgbm = LGBMRegressor(objective='regression', \n",
    "                                       num_leaves=4,\n",
    "                                       learning_rate=0.01, \n",
    "                                       n_estimators=5000,\n",
    "                                       max_bin=200, \n",
    "                                       bagging_fraction=0.75,\n",
    "                                       bagging_freq=5, \n",
    "                                       bagging_seed=7,\n",
    "                                       feature_fraction=0.2,\n",
    "                                       feature_fraction_seed=7,\n",
    "                                       verbose=-1,\n",
    "                                       )\n",
    "xgboost = XGBRegressor(learning_rate=0.01,n_estimators=5000,\n",
    "                                     max_depth=3, min_child_weight=0,\n",
    "                                     gamma=0, subsample=0.7,\n",
    "                                     colsample_bytree=0.7,\n",
    "                                     objective='reg:squarederror', nthread=-1,\n",
    "                                     scale_pos_weight=1, seed=27,\n",
    "                                     reg_alpha=0.00006)"
   ]
  },
  {
   "cell_type": "markdown",
   "metadata": {},
   "source": [
    "## Stacking models"
   ]
  },
  {
   "cell_type": "code",
   "execution_count": 8,
   "metadata": {},
   "outputs": [],
   "source": [
    "stack_gen = StackingCVRegressor(regressors=(ridge, lasso, elasticnet, gbr, xgboost, lightgbm),\n",
    "                                meta_regressor=xgboost,\n",
    "                                use_features_in_secondary=True)"
   ]
  },
  {
   "cell_type": "markdown",
   "metadata": {
    "_uuid": "89a50a6cda7e6994d8a2269984ba9e1a960d76b0"
   },
   "source": [
    "## Comparing models"
   ]
  },
  {
   "cell_type": "code",
   "execution_count": 9,
   "metadata": {
    "_uuid": "81aae079934ae19a2bb621f3115609770ccb0e6a"
   },
   "outputs": [
    {
     "name": "stdout",
     "output_type": "stream",
     "text": [
      "elastic net: 0.1500 (0.0350)\n",
      " 2024-01-30 16:19:52.587403\n",
      "RIDGE: 0.1505 (0.0346)\n",
      " 2024-01-30 16:20:09.299148\n",
      "LASSO: 0.1498 (0.0346)\n",
      " 2024-01-30 16:20:15.780626\n",
      "gbr: 0.1370 (0.0175)\n",
      " 2024-01-30 16:22:53.811421\n",
      "xgboost: 0.1271 (0.0177)\n",
      " 2024-01-30 16:24:45.129500\n",
      "lightgbm: 0.1368 (0.0164)\n",
      " 2024-01-30 16:25:00.590949\n"
     ]
    }
   ],
   "source": [
    "# Using various prediction models that we just created\n",
    "score = cv_rmse(elasticnet, X)\n",
    "print(\"elastic net: {:.4f} ({:.4f})\\n\".format(score.mean(), score.std()), datetime.now(), )\n",
    "\n",
    "score = cv_rmse(ridge, X)\n",
    "print(\"RIDGE: {:.4f} ({:.4f})\\n\".format(score.mean(), score.std()), datetime.now(), )\n",
    "\n",
    "score = cv_rmse(lasso, X)\n",
    "print(\"LASSO: {:.4f} ({:.4f})\\n\".format(score.mean(), score.std()), datetime.now(), )\n",
    "\n",
    "score = cv_rmse(gbr, X)\n",
    "print(\"gbr: {:.4f} ({:.4f})\\n\".format(score.mean(), score.std()), datetime.now(), )\n",
    "\n",
    "score = cv_rmse(xgboost, X)\n",
    "print(\"xgboost: {:.4f} ({:.4f})\\n\".format(score.mean(), score.std()), datetime.now(), )\n",
    "\n",
    "score = cv_rmse(lightgbm, X)\n",
    "print(\"lightgbm: {:.4f} ({:.4f})\\n\".format(score.mean(), score.std()), datetime.now(), )\n"
   ]
  },
  {
   "cell_type": "code",
   "execution_count": 10,
   "metadata": {
    "_uuid": "7d39f40cf0a5ce35f211aa1479052c6fdc25b22f"
   },
   "outputs": [
    {
     "name": "stdout",
     "output_type": "stream",
     "text": [
      "START Fit\n",
      "============ Fitting against original training data for each model ============\n",
      "stack_gen\n",
      "elasticnet\n",
      "Lasso\n",
      "Ridge\n",
      "GradientBoosting\n",
      "xgboost\n",
      "lightgbm\n"
     ]
    }
   ],
   "source": [
    "print('START Fit')\n",
    "print(\"============ Fitting against original training data for each model ============\")\n",
    "\n",
    "print('stack_gen')\n",
    "stack_gen_model = stack_gen.fit(np.array(X), np.array(y))\n",
    "\n",
    "print('elasticnet')\n",
    "elastic_model_full_data = elasticnet.fit(X, y)\n",
    "                                          \n",
    "print('Lasso')\n",
    "lasso_model_full_data = lasso.fit(X, y)\n",
    "\n",
    "print('Ridge')\n",
    "ridge_model_full_data = ridge.fit(X, y)\n",
    "\n",
    "print('GradientBoosting')\n",
    "gbr_model_full_data = gbr.fit(X, y)\n",
    "\n",
    "print('xgboost')\n",
    "xgb_model_full_data = xgboost.fit(X, y)\n",
    "\n",
    "print('lightgbm')\n",
    "lgb_model_full_data = lightgbm.fit(X, y)"
   ]
  },
  {
   "cell_type": "markdown",
   "metadata": {
    "_uuid": "ec2b00b49c8e397510c01bb0962ff22cb9776b5c"
   },
   "source": [
    "# Ensembling"
   ]
  },
  {
   "cell_type": "code",
   "execution_count": 11,
   "metadata": {},
   "outputs": [],
   "source": [
    "weightelastic = 0.05\n",
    "weightlasso = 0.05\n",
    "weightridge = 0.05\n",
    "weightgbr = 0.1\n",
    "weightxgb = 0.2\n",
    "weightlgb = 0.1\n",
    "weightstack = 0.45"
   ]
  },
  {
   "cell_type": "code",
   "execution_count": 12,
   "metadata": {},
   "outputs": [],
   "source": [
    "def blend_models_predict(X):\n",
    "    return ((weightelastic * elastic_model_full_data.predict(X)) + \\\n",
    "            (weightlasso * lasso_model_full_data.predict(X)) + \\\n",
    "            (weightridge * ridge_model_full_data.predict(X)) + \\\n",
    "            (weightgbr * gbr_model_full_data.predict(X)) + \\\n",
    "            (weightxgb * xgb_model_full_data.predict(X)) + \\\n",
    "            (weightlgb * lgb_model_full_data.predict(X)) + \\\n",
    "            (weightstack * stack_gen_model.predict(np.array(X))))    \n"
   ]
  },
  {
   "cell_type": "code",
   "execution_count": 13,
   "metadata": {
    "_uuid": "3b972324b0039d12d9422112f9c6a65c84b820f0"
   },
   "outputs": [
    {
     "name": "stdout",
     "output_type": "stream",
     "text": [
      "RMSE score on train data:\n",
      "0.048566179385403516\n"
     ]
    }
   ],
   "source": [
    "print('RMSE score on train data:')\n",
    "print(rmse(y, blend_models_predict(X)))"
   ]
  },
  {
   "cell_type": "markdown",
   "metadata": {},
   "source": [
    "# Feature Importance"
   ]
  },
  {
   "cell_type": "code",
   "execution_count": 14,
   "metadata": {},
   "outputs": [
    {
     "data": {
      "image/png": "[encoded data removed]",
      "text/plain": [
       "<Figure size 2000x2000 with 1 Axes>"
      ]
     },
     "metadata": {},
     "output_type": "display_data"
    }
   ],
   "source": [
    "FI = FeatureImportance(elastic_model_full_data,\n",
    "                       lasso_model_full_data,\n",
    "                       ridge_model_full_data,\n",
    "                       gbr_model_full_data,\n",
    "                       xgb_model_full_data,\n",
    "                       lgb_model_full_data,\n",
    "                       X)\n",
    "FItable = FI.getfeatureimportance(weightelastic,\n",
    "                                  weightlasso,\n",
    "                                  weightridge,\n",
    "                                  weightgbr,\n",
    "                                  weightxgb,\n",
    "                                  weightlgb)\n",
    "FI.plotfeatureimportance(FItable.head(20))"
   ]
  },
  {
   "cell_type": "markdown",
   "metadata": {},
   "source": [
    "# Cost Benefit"
   ]
  },
  {
   "cell_type": "markdown",
   "metadata": {},
   "source": [
    "Supposedly there's an average realtor that specifically knows the average price of a house by knowing its Neighborhood, MSZoning, Condition1, Condition2, BldgType, HouseStyle, Utilities, BsmtCond, GarageCond, SaleType, and SaleCondition."
   ]
  },
  {
   "cell_type": "code",
   "execution_count": 15,
   "metadata": {},
   "outputs": [
    {
     "name": "stderr",
     "output_type": "stream",
     "text": [
      "D:\\Sean\\Documents\\GitHub\\Tabular Data\\House Price Prediction\\analysis_preprocess.py:539: SettingWithCopyWarning: \n",
      "A value is trying to be set on a copy of a slice from a DataFrame.\n",
      "Try using .loc[row_indexer,col_indexer] = value instead\n",
      "\n",
      "See the caveats in the documentation: https://pandas.pydata.org/pandas-docs/stable/user_guide/indexing.html#returning-a-view-versus-a-copy\n",
      "  df['BsmtCond'] = df['BsmtCond'].fillna('NA')\n",
      "D:\\Sean\\Documents\\GitHub\\Tabular Data\\House Price Prediction\\analysis_preprocess.py:540: SettingWithCopyWarning: \n",
      "A value is trying to be set on a copy of a slice from a DataFrame.\n",
      "Try using .loc[row_indexer,col_indexer] = value instead\n",
      "\n",
      "See the caveats in the documentation: https://pandas.pydata.org/pandas-docs/stable/user_guide/indexing.html#returning-a-view-versus-a-copy\n",
      "  df['GarageCond'] = df['GarageCond'].fillna('NA')\n"
     ]
    },
    {
     "name": "stdout",
     "output_type": "stream",
     "text": [
      "RMSE score of model on train data (Log):\n",
      "0.048566179385403516\n",
      "RMSE score of model on train data (Dollars):\n",
      "9864.014675152966\n",
      "==========\n",
      "RMSE score of realtor on train data (Log):\n",
      "0.16001737133489835\n",
      "RMSE score of realtor on train data (Dollars:\n",
      "37597.231447963684\n"
     ]
    }
   ],
   "source": [
    "predictedtable = realtorpredict(rawtrain)\n",
    "\n",
    "print('RMSE score of model on train data (Log):')\n",
    "print(rmse(np.log1p(predictedtable['SalePrice']), blend_models_predict(X)))\n",
    "print('RMSE score of model on train data (Dollars):')\n",
    "print(rmse(predictedtable['SalePrice'], np.expm1(blend_models_predict(X))))\n",
    "print(\"=\"*10)\n",
    "print('RMSE score of realtor on train data (Log):')\n",
    "print(rmse(np.log1p(predictedtable['SalePrice']), np.log1p(predictedtable['PredictedSalePrice'])))\n",
    "print('RMSE score of realtor on train data (Dollars:')\n",
    "print(rmse(predictedtable['SalePrice'], predictedtable['PredictedSalePrice']))"
   ]
  },
  {
   "cell_type": "markdown",
   "metadata": {},
   "source": [
    "Suppose that everytime we predict less than ground truth, we sustain financial loss and everytime we predict more than the ground truth, we are able to sell the property but without considering whether the final price differ from the predicted price or not."
   ]
  },
  {
   "cell_type": "code",
   "execution_count": 16,
   "metadata": {},
   "outputs": [
    {
     "name": "stdout",
     "output_type": "stream",
     "text": [
      "Loss Profit Valuation (By Ensemble Model): $5,189,526.49\n",
      "Loss Profit Valuation (By Realtor): $14,814,162.80\n"
     ]
    }
   ],
   "source": [
    "#evaluating loss profit\n",
    "totalmodel = np.where(predictedtable['SalePrice']>np.expm1(blend_models_predict(X)), predictedtable['SalePrice'] - np.expm1(blend_models_predict(X)), 0)\n",
    "totalrealtor = np.where(predictedtable['SalePrice']>predictedtable['PredictedSalePrice'],predictedtable['SalePrice'] - predictedtable['PredictedSalePrice'],0)\n",
    "\n",
    "lossprofmodel = np.sum(totalmodel)\n",
    "lossprofrealtor = np.sum(totalrealtor)\n",
    "\n",
    "print('Loss Profit Valuation (By Ensemble Model): $'+\"{:,.2f}\".format(lossprofmodel))\n",
    "print('Loss Profit Valuation (By Realtor): $'+\"{:,.2f}\".format(lossprofrealtor))"
   ]
  },
  {
   "cell_type": "markdown",
   "metadata": {
    "_uuid": "2f91b0dfa25e867d93d4e8fb383f8240d6fcd250"
   },
   "source": [
    "# Submission"
   ]
  },
  {
   "cell_type": "code",
   "execution_count": 17,
   "metadata": {
    "_uuid": "f0fa2dfe20409dc1ee8b31139d6523c62b14d658"
   },
   "outputs": [
    {
     "name": "stdout",
     "output_type": "stream",
     "text": [
      "Predict submission\n"
     ]
    }
   ],
   "source": [
    "print('Predict submission')\n",
    "submission = pd.read_csv(\"sample_submission.csv\")\n",
    "submission.iloc[:,1] = (np.expm1(blend_models_predict(test)))"
   ]
  },
  {
   "cell_type": "code",
   "execution_count": 18,
   "metadata": {
    "_uuid": "1a3b3c0025fdf118a0bedca994650e8a38170370"
   },
   "outputs": [],
   "source": [
    "q1 = submission['SalePrice'].quantile(0.0042)\n",
    "q2 = submission['SalePrice'].quantile(0.99)\n",
    "# Quantiles helping us get some extreme values for extremely low or high values \n",
    "submission['SalePrice'] = submission['SalePrice'].apply(lambda x: x if x > q1 else x*0.77)\n",
    "submission['SalePrice'] = submission['SalePrice'].apply(lambda x: x if x < q2 else x*1.1)\n",
    "submission.to_csv(\"submission.csv\", index=False)"
   ]
  },
  {
   "cell_type": "code",
   "execution_count": 19,
   "metadata": {},
   "outputs": [
    {
     "data": {
      "text/plain": [
       "<Axes: xlabel='SalePrice', ylabel='Count'>"
      ]
     },
     "execution_count": 19,
     "metadata": {},
     "output_type": "execute_result"
    },
    {
     "data": {
      "image/png": "[encoded data removed]",
      "text/plain": [
       "<Figure size 640x480 with 1 Axes>"
      ]
     },
     "metadata": {},
     "output_type": "display_data"
    }
   ],
   "source": [
    "import seaborn as sns\n",
    "sns.histplot(submission['SalePrice'])"
   ]
  },
  {
   "cell_type": "code",
   "execution_count": 20,
   "metadata": {
    "_uuid": "e9a3a97f62fd8e553e8c44b07011f7711e016b32"
   },
   "outputs": [
    {
     "data": {
      "text/html": [
       "<div>\n",
       "<style scoped>\n",
       "    .dataframe tbody tr th:only-of-type {\n",
       "        vertical-align: middle;\n",
       "    }\n",
       "\n",
       "    .dataframe tbody tr th {\n",
       "        vertical-align: top;\n",
       "    }\n",
       "\n",
       "    .dataframe thead th {\n",
       "        text-align: right;\n",
       "    }\n",
       "</style>\n",
       "<table border=\"1\" class=\"dataframe\">\n",
       "  <thead>\n",
       "    <tr style=\"text-align: right;\">\n",
       "      <th></th>\n",
       "      <th>Id</th>\n",
       "      <th>SalePrice</th>\n",
       "    </tr>\n",
       "  </thead>\n",
       "  <tbody>\n",
       "    <tr>\n",
       "      <th>0</th>\n",
       "      <td>1461</td>\n",
       "      <td>116683.115725</td>\n",
       "    </tr>\n",
       "    <tr>\n",
       "      <th>1</th>\n",
       "      <td>1462</td>\n",
       "      <td>155574.928451</td>\n",
       "    </tr>\n",
       "    <tr>\n",
       "      <th>2</th>\n",
       "      <td>1463</td>\n",
       "      <td>179832.007215</td>\n",
       "    </tr>\n",
       "    <tr>\n",
       "      <th>3</th>\n",
       "      <td>1464</td>\n",
       "      <td>192274.010930</td>\n",
       "    </tr>\n",
       "    <tr>\n",
       "      <th>4</th>\n",
       "      <td>1465</td>\n",
       "      <td>183325.763757</td>\n",
       "    </tr>\n",
       "  </tbody>\n",
       "</table>\n",
       "</div>"
      ],
      "text/plain": [
       "     Id      SalePrice\n",
       "0  1461  116683.115725\n",
       "1  1462  155574.928451\n",
       "2  1463  179832.007215\n",
       "3  1464  192274.010930\n",
       "4  1465  183325.763757"
      ]
     },
     "execution_count": 20,
     "metadata": {},
     "output_type": "execute_result"
    }
   ],
   "source": [
    "submission.head()"
   ]
  },
  {
   "cell_type": "code",
   "execution_count": null,
   "metadata": {},
   "outputs": [],
   "source": []
  },
  {
   "cell_type": "code",
   "execution_count": null,
   "metadata": {},
   "outputs": [],
   "source": []
  }
 ],
 "metadata": {
  "kernelspec": {
   "display_name": "Python 3 (ipykernel)",
   "language": "python",
   "name": "python3"
  },
  "language_info": {
   "codemirror_mode": {
    "name": "ipython",
    "version": 3
   },
   "file_extension": ".py",
   "mimetype": "text/x-python",
   "name": "python",
   "nbconvert_exporter": "python",
   "pygments_lexer": "ipython3",
   "version": "3.10.9"
  }
 },
 "nbformat": 4,
 "nbformat_minor": 4
}
