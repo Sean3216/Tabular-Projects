{
 "cells": [
  {
   "cell_type": "markdown",
   "id": "a7adf4dd",
   "metadata": {},
   "source": [
    "We will be using K-Prototype to cluster the data since the data consists of categorical and numerical data"
   ]
  },
  {
   "cell_type": "code",
   "execution_count": 4,
   "id": "b615e62b",
   "metadata": {},
   "outputs": [],
   "source": [
    "import pandas as pd\n",
    "import numpy as np\n",
    "import matplotlib.pyplot as plt\n",
    "import seaborn as sns"
   ]
  },
  {
   "cell_type": "code",
   "execution_count": 5,
   "id": "03cb8342",
   "metadata": {},
   "outputs": [],
   "source": [
    "data = pd.read_csv('readytoclust.csv')"
   ]
  },
  {
   "cell_type": "code",
   "execution_count": 6,
   "id": "dec3fd53",
   "metadata": {},
   "outputs": [
    {
     "name": "stdout",
     "output_type": "stream",
     "text": [
      "<class 'pandas.core.frame.DataFrame'>\n",
      "RangeIndex: 2209 entries, 0 to 2208\n",
      "Data columns (total 25 columns):\n",
      " #   Column               Non-Null Count  Dtype  \n",
      "---  ------               --------------  -----  \n",
      " 0   Education            2209 non-null   object \n",
      " 1   Marital_Status       2209 non-null   object \n",
      " 2   Income               2209 non-null   float64\n",
      " 3   Kidhome              2209 non-null   int64  \n",
      " 4   Teenhome             2209 non-null   int64  \n",
      " 5   MntWines             2209 non-null   int64  \n",
      " 6   MntFruits            2209 non-null   int64  \n",
      " 7   MntMeatProducts      2209 non-null   int64  \n",
      " 8   MntFishProducts      2209 non-null   int64  \n",
      " 9   MntSweetProducts     2209 non-null   int64  \n",
      " 10  MntGoldProds         2209 non-null   int64  \n",
      " 11  NumDealsPurchases    2209 non-null   int64  \n",
      " 12  NumWebPurchases      2209 non-null   int64  \n",
      " 13  NumCatalogPurchases  2209 non-null   int64  \n",
      " 14  NumStorePurchases    2209 non-null   int64  \n",
      " 15  NumWebVisitsMonth    2209 non-null   int64  \n",
      " 16  AcceptedCmp3         2209 non-null   object \n",
      " 17  AcceptedCmp4         2209 non-null   object \n",
      " 18  AcceptedCmp5         2209 non-null   object \n",
      " 19  AcceptedCmp1         2209 non-null   object \n",
      " 20  AcceptedCmp2         2209 non-null   object \n",
      " 21  Complain             2209 non-null   object \n",
      " 22  Response             2209 non-null   object \n",
      " 23  days_since_join      2209 non-null   int64  \n",
      " 24  Age                  2209 non-null   int64  \n",
      "dtypes: float64(1), int64(15), object(9)\n",
      "memory usage: 431.6+ KB\n"
     ]
    }
   ],
   "source": [
    "data.info()"
   ]
  },
  {
   "cell_type": "code",
   "execution_count": 7,
   "id": "fb702ec1",
   "metadata": {
    "scrolled": true
   },
   "outputs": [
    {
     "data": {
      "text/plain": [
       "<function matplotlib.pyplot.plot(*args, scalex=True, scaley=True, data=None, **kwargs)>"
      ]
     },
     "execution_count": 7,
     "metadata": {},
     "output_type": "execute_result"
    },
    {
     "data": {
      "image/png": "[encoded data removed]",
      "text/plain": [
       "<Figure size 432x288 with 1 Axes>"
      ]
     },
     "metadata": {
      "needs_background": "light"
     },
     "output_type": "display_data"
    }
   ],
   "source": [
    "# Function for plotting elbow curve\n",
    "from kmodes.kprototypes import KPrototypes\n",
    "Poscatcol = [data.columns.get_loc(i) for i in data.loc[:, data.dtypes == 'object'].columns]\n",
    "cost = []\n",
    "for i in range(2,7):\n",
    "    clust = KPrototypes(n_clusters = i,init='Huang', random_state = 42)\n",
    "    clust.fit_predict(data,categorical = Poscatcol)\n",
    "    cost.append(clust.cost_)\n",
    "    \n",
    "sns.lineplot(x = range(2,7),y = cost,marker = \"+\",dashes = True)\n",
    "plt.title('Elbow Curve')\n",
    "plt.xlabel('N of Clusters')\n",
    "plt.ylabel('Cost')\n",
    "plt.plot"
   ]
  },
  {
   "cell_type": "code",
   "execution_count": 8,
   "id": "6d3e4d47",
   "metadata": {},
   "outputs": [
    {
     "data": {
      "text/plain": [
       "2    784\n",
       "0    740\n",
       "1    685\n",
       "Name: segments, dtype: int64"
      ]
     },
     "execution_count": 8,
     "metadata": {},
     "output_type": "execute_result"
    }
   ],
   "source": [
    "#I decide to cluster the data into 3 cluster based on the Elbow Curve.\n",
    "#7 cluster might be better but sometimes we don't want to group our customers into many segments since it will also\n",
    "#give ourselves a hard time.\n",
    "finalclust = KPrototypes(n_clusters = 3, init='Huang',random_state = 42)\n",
    "finalclust.fit_predict(data,categorical = Poscatcol)\n",
    "final = data.loc[:]\n",
    "final['segments'] = finalclust.labels_\n",
    "final.segments.value_counts()"
   ]
  },
  {
   "cell_type": "markdown",
   "id": "9779c47f",
   "metadata": {},
   "source": [
    "We have 25 variables. In real life projects, it is impossible to give the interpretation of all 26 variables to your user(s). Basically we have 2 alternatives. We could reduce the data before clustering (eg. we use PCA, Variance Threshold, etc.) or we could model the data as supervised learning, take a look at the feature importances, then pick few variables that are relevant enough to take a look at. In this opportunity, I chose the latter."
   ]
  },
  {
   "cell_type": "code",
   "execution_count": 9,
   "id": "f69955ff",
   "metadata": {},
   "outputs": [],
   "source": [
    "#Export the data to model\n",
    "tomodelandinterpret=final.to_csv('model and plot.csv')"
   ]
  },
  {
   "cell_type": "code",
   "execution_count": null,
   "id": "47fa2be1",
   "metadata": {},
   "outputs": [],
   "source": []
  }
 ],
 "metadata": {
  "kernelspec": {
   "display_name": "Python 3 (ipykernel)",
   "language": "python",
   "name": "python3"
  },
  "language_info": {
   "codemirror_mode": {
    "name": "ipython",
    "version": 3
   },
   "file_extension": ".py",
   "mimetype": "text/x-python",
   "name": "python",
   "nbconvert_exporter": "python",
   "pygments_lexer": "ipython3",
   "version": "3.8.10"
  }
 },
 "nbformat": 4,
 "nbformat_minor": 5
}
